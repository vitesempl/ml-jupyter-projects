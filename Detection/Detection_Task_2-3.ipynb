{
 "cells": [
  {
   "cell_type": "code",
   "execution_count": 1,
   "metadata": {},
   "outputs": [],
   "source": [
    "import cv2 as cv\n",
    "import numpy as np\n",
    "import os\n",
    "import matplotlib.pyplot as plt\n",
    "import time\n",
    "from sklearn.model_selection import train_test_split, StratifiedKFold\n",
    "from scipy.fftpack import dct\n",
    "from skimage.transform import rescale\n",
    "from IPython.display import clear_output\n",
    "from IPython import display"
   ]
  },
  {
   "cell_type": "code",
   "execution_count": 2,
   "metadata": {},
   "outputs": [],
   "source": [
    "images_path = 'faces'"
   ]
  },
  {
   "cell_type": "code",
   "execution_count": 3,
   "metadata": {},
   "outputs": [],
   "source": [
    "images = []\n",
    "labels = []\n",
    "for label, dir_name in enumerate(sorted(os.listdir(images_path))):\n",
    "    dir_path = os.path.join(images_path, dir_name)\n",
    "    for image_name in os.listdir(dir_path):\n",
    "        image_path = os.path.join(dir_path, image_name)\n",
    "        img = cv.imread(image_path, 0)\n",
    "        images.append(img)\n",
    "        labels.append(label)"
   ]
  },
  {
   "cell_type": "code",
   "execution_count": 4,
   "metadata": {},
   "outputs": [],
   "source": [
    "images = np.array(images)\n",
    "labels = np.array(labels)"
   ]
  },
  {
   "cell_type": "code",
   "execution_count": 5,
   "metadata": {},
   "outputs": [],
   "source": [
    "class BrightnessClassifier:\n",
    "    \"\"\"\n",
    "        Классификатор на основе гистограммы яркости\n",
    "    \"\"\"\n",
    "    def __init__(self, hist_size=256):\n",
    "        self.hist_size = hist_size\n",
    "    \n",
    "    def fit(self, X_train, y_train):\n",
    "        self.X_train = X_train\n",
    "        self.y_train = y_train\n",
    "        self.train_histograms = []\n",
    "        for train_image in self.X_train:\n",
    "            train_hist = cv.calcHist([train_image], [0], None, [self.hist_size],[0,256])\n",
    "            self.train_histograms.append(train_hist)\n",
    "    \n",
    "    def predict(self, test_images):\n",
    "        predictions = []\n",
    "        for test_image in test_images:\n",
    "            distances = []\n",
    "            test_hist = cv.calcHist([test_image], [0], None, [self.hist_size],[0,256])\n",
    "            for train_hist in self.train_histograms:\n",
    "                dist = np.linalg.norm(test_hist - train_hist)\n",
    "                distances.append(dist)\n",
    "            prediction = self.y_train[np.argmin(distances)]\n",
    "            predictions.append(prediction)\n",
    "            \n",
    "        return np.array(predictions)\n",
    "            "
   ]
  },
  {
   "cell_type": "code",
   "execution_count": 6,
   "metadata": {},
   "outputs": [],
   "source": [
    "class DFTClassifier:\n",
    "    \"\"\"\n",
    "        Классификатор на основе дискретного преобразования Фурье\n",
    "    \"\"\"\n",
    "    def __init__(self, size=1.0):\n",
    "        self.size = size\n",
    "    \n",
    "    def fit(self, X_train, y_train):\n",
    "        self.X_train = X_train\n",
    "        self.y_train = y_train\n",
    "        self.max_row = int(X_train[0].shape[0]*self.size)\n",
    "        self.max_column = int(X_train[0].shape[1]*self.size)\n",
    "        self.train_dfts = []\n",
    "        for train_image in self.X_train:\n",
    "            train_dft = np.fft.fft2(train_image)\n",
    "            train_dft = np.fft.fftshift(train_dft)\n",
    "            train_dft = 20*np.log(np.abs(train_dft))\n",
    "            train_dft = train_dft[:self.max_row, :self.max_column]    \n",
    "            self.train_dfts.append(train_dft)\n",
    "    \n",
    "    def predict(self, test_images):\n",
    "        predictions = []\n",
    "        for test_image in test_images:\n",
    "            distances = []\n",
    "            test_dft = np.fft.fft2(test_image)\n",
    "            test_dft = np.fft.fftshift(test_dft)\n",
    "            test_dft = 20*np.log(np.abs(test_dft))\n",
    "            test_dft = test_dft[:self.max_row, :self.max_column]\n",
    "            for train_dft in self.train_dfts:\n",
    "                dist = np.linalg.norm(test_dft.ravel() - train_dft.ravel())\n",
    "                distances.append(dist)\n",
    "            prediction = self.y_train[np.argmin(distances)]\n",
    "            predictions.append(prediction)     \n",
    "            \n",
    "        return np.array(predictions)"
   ]
  },
  {
   "cell_type": "code",
   "execution_count": 7,
   "metadata": {},
   "outputs": [],
   "source": [
    "class DCTClassifier:\n",
    "    \"\"\"\n",
    "        Классификатор на основе дискретного косинусного преобразования\n",
    "        @param: float size: Использует прямоугольник размером size*row и size*columns от всего изображения\n",
    "    \"\"\"\n",
    "    def __init__(self, size=1.0):\n",
    "        self.size = size\n",
    "    \n",
    "    def fit(self, X_train, y_train):\n",
    "        self.X_train = X_train\n",
    "        self.y_train = y_train\n",
    "        self.max_row = int(X_train[0].shape[0]*self.size)\n",
    "        self.max_column = int(X_train[0].shape[1]*self.size)\n",
    "        self.train_dcts = []\n",
    "        for train_image in self.X_train:\n",
    "            train_dct = dct(dct(train_image.T, norm='ortho').T, norm='ortho')\n",
    "            train_dct = train_dct[:self.max_row, :self.max_column]\n",
    "            self.train_dcts.append(train_dct)    \n",
    "    \n",
    "    def predict(self, test_images):\n",
    "        predictions = []\n",
    "        for test_image in test_images:\n",
    "            distances = []\n",
    "            test_dct = dct(dct(test_image.T, norm='ortho').T, norm='ortho')\n",
    "            test_dct = test_dct[:self.max_row, :self.max_column]\n",
    "            for train_dct in self.train_dcts:\n",
    "                dist = np.linalg.norm(train_dct.ravel() - test_dct.ravel())\n",
    "                distances.append(dist)\n",
    "            prediction = self.y_train[np.argmin(distances)]\n",
    "            predictions.append(prediction)\n",
    "        \n",
    "        return np.array(predictions)"
   ]
  },
  {
   "cell_type": "code",
   "execution_count": 8,
   "metadata": {},
   "outputs": [],
   "source": [
    "class ScaleClassifier:\n",
    "    \"\"\"\n",
    "        Классификатор на основе масштабирования\n",
    "        @param array-like sizes: Представляет собой массив масштабов\n",
    "    \"\"\"\n",
    "    def __init__(self, sizes=[1.0]):\n",
    "        self.sizes = sizes\n",
    "    \n",
    "    def fit(self, X_train, y_train):\n",
    "        self.X_train = X_train\n",
    "        self.y_train = y_train\n",
    "        self.train_rescaled_imgs = []\n",
    "        for train_image in self.X_train:\n",
    "            rescaled = self.get_rescaled_imgs(train_image)\n",
    "            self.train_rescaled_imgs.append(rescaled)\n",
    "    \n",
    "    def get_rescaled_imgs(self, img):\n",
    "        rescaled_imgs = []\n",
    "        for size in self.sizes:   \n",
    "            rescaled_img = rescale(img, size, mode='constant', anti_aliasing=False, multichannel=False)\n",
    "            rescaled_imgs.append(rescaled_img)\n",
    "        return rescaled_imgs       \n",
    "    \n",
    "    def get_avg_distance(self, rescaled_img1, rescaled_img2):\n",
    "        total_dist = 0\n",
    "        for i in range(len(self.sizes)):\n",
    "            total_dist += np.linalg.norm(rescaled_img1[i].ravel() - rescaled_img2[i].ravel())\n",
    "        \n",
    "        return total_dist / len(self.sizes)\n",
    "    \n",
    "    def predict(self, test_images):\n",
    "        predictions = []\n",
    "        for test_image in test_images:\n",
    "            distances = []\n",
    "            test_rescaled_img = self.get_rescaled_imgs(test_image)\n",
    "            for train_rescaled_img in self.train_rescaled_imgs:\n",
    "                dist = self.get_avg_distance(test_rescaled_img, train_rescaled_img)\n",
    "                distances.append(dist)\n",
    "            prediction = self.y_train[np.argmin(distances)]\n",
    "            predictions.append(prediction)\n",
    "            \n",
    "        return np.array(predictions)   "
   ]
  },
  {
   "cell_type": "code",
   "execution_count": 9,
   "metadata": {},
   "outputs": [],
   "source": [
    "class GradientClassifier:\n",
    "    \"\"\"\n",
    "        Классификатор на основе градиента\n",
    "        @param: int ksize: Размер ядра\n",
    "    \"\"\"\n",
    "    def __init__(self, ksize=-1):\n",
    "        self.ksize = ksize\n",
    "    \n",
    "    def fit(self, X_train, y_train):\n",
    "        self.X_train = X_train\n",
    "        self.y_train= y_train\n",
    "        self.train_gradients = []\n",
    "        for train_image in self.X_train:\n",
    "            train_grad = cv.Sobel(train_image, cv.CV_64F, 0, 1, ksize=self.ksize)\n",
    "            self.train_gradients.append(train_grad)\n",
    "    \n",
    "    def predict(self, test_images):\n",
    "        predictions = []\n",
    "        for test_image in test_images:\n",
    "            distances = []\n",
    "            test_grad = cv.Sobel(test_image, cv.CV_64F, 0, 1, ksize=self.ksize)\n",
    "            for train_grad in self.train_gradients:\n",
    "                dist = np.linalg.norm(test_grad.ravel() - train_grad.ravel())\n",
    "                distances.append(dist)\n",
    "            prediction = self.y_train[np.argmin(distances)]\n",
    "            predictions.append(prediction)\n",
    "        \n",
    "        return np.array(predictions)"
   ]
  },
  {
   "cell_type": "code",
   "execution_count": 10,
   "metadata": {},
   "outputs": [],
   "source": [
    "class VotingClassifier:\n",
    "    \"\"\"\n",
    "        Классификатор основанный на правиле большинства\n",
    "    \"\"\"\n",
    "    def __init__(self, estimators, voting='hard'):\n",
    "        self.estimators = estimators\n",
    "        self.voting = voting\n",
    "        \n",
    "    def fit(self, X_train, y_train):\n",
    "        for estimator in self.estimators:\n",
    "            estimator.fit(X_train, y_train)\n",
    "    \n",
    "    def predict(self, X_test):\n",
    "        predictions = []\n",
    "        for estimator in self.estimators:\n",
    "            y_pred = estimator.predict(X_test)\n",
    "            predictions.append(y_pred)\n",
    "        predictions = np.array(predictions)\n",
    "        predictions = np.apply_along_axis(lambda x: np.bincount(x, minlength=40), 0, predictions).argmax(axis=0)\n",
    "        return predictions"
   ]
  },
  {
   "cell_type": "code",
   "execution_count": 11,
   "metadata": {},
   "outputs": [],
   "source": [
    "def accuracy_score(y_pred, y_test):\n",
    "    return sum(y_pred == y_test) / len(y_test)"
   ]
  },
  {
   "cell_type": "code",
   "execution_count": 12,
   "metadata": {},
   "outputs": [],
   "source": [
    "def plot_test_acc(test_sizes, accuracies, clf_name):\n",
    "    plt.plot(test_sizes, accuracies)\n",
    "    plt.xlabel('test_size')\n",
    "    plt.ylabel('accuracy')\n",
    "    plt.title(clf_name)"
   ]
  },
  {
   "cell_type": "code",
   "execution_count": 13,
   "metadata": {},
   "outputs": [],
   "source": [
    "X_train, X_test, y_train, y_test = train_test_split(images, labels, test_size=len(np.unique(labels)), \n",
    "                                                    random_state=25, stratify=labels)"
   ]
  },
  {
   "cell_type": "markdown",
   "metadata": {},
   "source": [
    "# Тестирование на обучающей выборке"
   ]
  },
  {
   "cell_type": "markdown",
   "metadata": {},
   "source": [
    "## Гистограмма яркости"
   ]
  },
  {
   "cell_type": "code",
   "execution_count": 14,
   "metadata": {},
   "outputs": [],
   "source": [
    "brightness_clf = BrightnessClassifier()"
   ]
  },
  {
   "cell_type": "code",
   "execution_count": 15,
   "metadata": {},
   "outputs": [],
   "source": [
    "brightness_clf.fit(X_train, y_train)"
   ]
  },
  {
   "cell_type": "code",
   "execution_count": 16,
   "metadata": {},
   "outputs": [
    {
     "name": "stdout",
     "output_type": "stream",
     "text": [
      "Wall time: 719 ms\n"
     ]
    }
   ],
   "source": [
    "%%time\n",
    "y_pred = brightness_clf.predict(X_train)"
   ]
  },
  {
   "cell_type": "code",
   "execution_count": 17,
   "metadata": {},
   "outputs": [
    {
     "data": {
      "text/plain": [
       "1.0"
      ]
     },
     "execution_count": 17,
     "metadata": {},
     "output_type": "execute_result"
    }
   ],
   "source": [
    "accuracy_score(y_pred, y_train)"
   ]
  },
  {
   "cell_type": "markdown",
   "metadata": {},
   "source": [
    "## Дискретное преобразование Фурье"
   ]
  },
  {
   "cell_type": "code",
   "execution_count": 18,
   "metadata": {},
   "outputs": [],
   "source": [
    "dft_clf = DFTClassifier()"
   ]
  },
  {
   "cell_type": "code",
   "execution_count": 19,
   "metadata": {},
   "outputs": [],
   "source": [
    "dft_clf.fit(X_train, y_train)"
   ]
  },
  {
   "cell_type": "code",
   "execution_count": 20,
   "metadata": {},
   "outputs": [
    {
     "name": "stdout",
     "output_type": "stream",
     "text": [
      "Wall time: 7.88 s\n"
     ]
    }
   ],
   "source": [
    "%%time\n",
    "y_pred = dft_clf.predict(X_train)"
   ]
  },
  {
   "cell_type": "code",
   "execution_count": 21,
   "metadata": {},
   "outputs": [
    {
     "data": {
      "text/plain": [
       "1.0"
      ]
     },
     "execution_count": 21,
     "metadata": {},
     "output_type": "execute_result"
    }
   ],
   "source": [
    "accuracy_score(y_pred, y_train)"
   ]
  },
  {
   "cell_type": "markdown",
   "metadata": {},
   "source": [
    "## Дискретное косинусное преобразование"
   ]
  },
  {
   "cell_type": "code",
   "execution_count": 22,
   "metadata": {},
   "outputs": [],
   "source": [
    "dct_clf = DCTClassifier()"
   ]
  },
  {
   "cell_type": "code",
   "execution_count": 23,
   "metadata": {},
   "outputs": [],
   "source": [
    "dct_clf.fit(X_train, y_train)"
   ]
  },
  {
   "cell_type": "code",
   "execution_count": 24,
   "metadata": {},
   "outputs": [
    {
     "name": "stdout",
     "output_type": "stream",
     "text": [
      "Wall time: 3.36 s\n"
     ]
    }
   ],
   "source": [
    "%%time\n",
    "y_pred = dct_clf.predict(X_train)"
   ]
  },
  {
   "cell_type": "code",
   "execution_count": 25,
   "metadata": {},
   "outputs": [
    {
     "data": {
      "text/plain": [
       "1.0"
      ]
     },
     "execution_count": 25,
     "metadata": {},
     "output_type": "execute_result"
    }
   ],
   "source": [
    "accuracy_score(y_pred, y_train)"
   ]
  },
  {
   "cell_type": "markdown",
   "metadata": {},
   "source": [
    "## Масштабирование"
   ]
  },
  {
   "cell_type": "code",
   "execution_count": 26,
   "metadata": {},
   "outputs": [],
   "source": [
    "scale_clf = ScaleClassifier(sizes=[1.0, 0.9, 0.8, 0.5])"
   ]
  },
  {
   "cell_type": "code",
   "execution_count": 27,
   "metadata": {},
   "outputs": [
    {
     "name": "stdout",
     "output_type": "stream",
     "text": [
      "Wall time: 1.61 s\n"
     ]
    }
   ],
   "source": [
    "%%time\n",
    "scale_clf.fit(X_train, y_train)"
   ]
  },
  {
   "cell_type": "code",
   "execution_count": 28,
   "metadata": {},
   "outputs": [
    {
     "name": "stdout",
     "output_type": "stream",
     "text": [
      "Wall time: 11.1 s\n"
     ]
    }
   ],
   "source": [
    "%%time\n",
    "y_pred = scale_clf.predict(X_train)"
   ]
  },
  {
   "cell_type": "code",
   "execution_count": 29,
   "metadata": {},
   "outputs": [
    {
     "data": {
      "text/plain": [
       "1.0"
      ]
     },
     "execution_count": 29,
     "metadata": {},
     "output_type": "execute_result"
    }
   ],
   "source": [
    "accuracy_score(y_pred, y_train)"
   ]
  },
  {
   "cell_type": "markdown",
   "metadata": {},
   "source": [
    "## Градиент"
   ]
  },
  {
   "cell_type": "code",
   "execution_count": 30,
   "metadata": {},
   "outputs": [],
   "source": [
    "gradient_clf = GradientClassifier()"
   ]
  },
  {
   "cell_type": "code",
   "execution_count": 31,
   "metadata": {},
   "outputs": [],
   "source": [
    "gradient_clf.fit(X_train, y_train)"
   ]
  },
  {
   "cell_type": "code",
   "execution_count": 32,
   "metadata": {},
   "outputs": [
    {
     "name": "stdout",
     "output_type": "stream",
     "text": [
      "Wall time: 3.03 s\n"
     ]
    }
   ],
   "source": [
    "%%time\n",
    "y_pred = gradient_clf.predict(X_train)"
   ]
  },
  {
   "cell_type": "code",
   "execution_count": 33,
   "metadata": {},
   "outputs": [
    {
     "data": {
      "text/plain": [
       "1.0"
      ]
     },
     "execution_count": 33,
     "metadata": {},
     "output_type": "execute_result"
    }
   ],
   "source": [
    "accuracy_score(y_pred, y_train)"
   ]
  },
  {
   "cell_type": "markdown",
   "metadata": {},
   "source": [
    "# Тестирование на тестовой выборке"
   ]
  },
  {
   "cell_type": "markdown",
   "metadata": {},
   "source": [
    "## Гистограмма яркости"
   ]
  },
  {
   "cell_type": "markdown",
   "metadata": {},
   "source": [
    "**Классификация с параметром по умолчанию `size=256`**"
   ]
  },
  {
   "cell_type": "code",
   "execution_count": 34,
   "metadata": {},
   "outputs": [],
   "source": [
    "brightness_clf = BrightnessClassifier()"
   ]
  },
  {
   "cell_type": "code",
   "execution_count": 35,
   "metadata": {},
   "outputs": [],
   "source": [
    "brightness_clf.fit(X_train, y_train)"
   ]
  },
  {
   "cell_type": "code",
   "execution_count": 36,
   "metadata": {},
   "outputs": [
    {
     "name": "stdout",
     "output_type": "stream",
     "text": [
      "Wall time: 78.1 ms\n"
     ]
    }
   ],
   "source": [
    "%%time\n",
    "y_pred = brightness_clf.predict(X_test)"
   ]
  },
  {
   "cell_type": "code",
   "execution_count": 37,
   "metadata": {},
   "outputs": [
    {
     "data": {
      "text/plain": [
       "1.0"
      ]
     },
     "execution_count": 37,
     "metadata": {},
     "output_type": "execute_result"
    }
   ],
   "source": [
    "accuracy_score(y_pred, y_test)"
   ]
  },
  {
   "cell_type": "markdown",
   "metadata": {},
   "source": [
    "**Классификация с параметром `size` в диапазоне [3..256]**"
   ]
  },
  {
   "cell_type": "code",
   "execution_count": 38,
   "metadata": {},
   "outputs": [
    {
     "name": "stdout",
     "output_type": "stream",
     "text": [
      "Wall time: 20.4 s\n"
     ]
    }
   ],
   "source": [
    "%%time\n",
    "accuracies = []\n",
    "for size in range(3, 257):\n",
    "    brightness_clf = BrightnessClassifier(hist_size=size)\n",
    "    brightness_clf.fit(X_train, y_train)\n",
    "    y_pred = brightness_clf.predict(X_test)\n",
    "    accuracies.append(accuracy_score(y_pred, y_test))"
   ]
  },
  {
   "cell_type": "code",
   "execution_count": 39,
   "metadata": {},
   "outputs": [
    {
     "data": {
      "image/png": "[encoded data removed]",
      "text/plain": [
       "<Figure size 432x288 with 1 Axes>"
      ]
     },
     "metadata": {
      "needs_background": "light"
     },
     "output_type": "display_data"
    }
   ],
   "source": [
    "plt.plot(range(3, 257), accuracies)\n",
    "plt.xlabel('hist_size')\n",
    "plt.ylabel('accuracy')\n",
    "plt.title('BrightnessClassifier');"
   ]
  },
  {
   "cell_type": "code",
   "execution_count": 40,
   "metadata": {},
   "outputs": [
    {
     "name": "stdout",
     "output_type": "stream",
     "text": [
      "Оптимальный параметр size: 16\n",
      "Точность: 1.0\n"
     ]
    }
   ],
   "source": [
    "print('Оптимальный параметр size:', np.arange(3, 257, 1)[np.argmax(accuracies)])\n",
    "print('Точность:', max(accuracies))"
   ]
  },
  {
   "cell_type": "markdown",
   "metadata": {},
   "source": [
    "## Дискретное преобразование Фурье"
   ]
  },
  {
   "cell_type": "markdown",
   "metadata": {},
   "source": [
    "**Классификация с параметром по умолчанию `size=1.0`**"
   ]
  },
  {
   "cell_type": "code",
   "execution_count": 41,
   "metadata": {},
   "outputs": [],
   "source": [
    "dft_clf = DFTClassifier()"
   ]
  },
  {
   "cell_type": "code",
   "execution_count": 42,
   "metadata": {},
   "outputs": [],
   "source": [
    "dft_clf.fit(X_train, y_train)"
   ]
  },
  {
   "cell_type": "code",
   "execution_count": 43,
   "metadata": {},
   "outputs": [
    {
     "name": "stdout",
     "output_type": "stream",
     "text": [
      "Wall time: 797 ms\n"
     ]
    }
   ],
   "source": [
    "%%time\n",
    "y_pred = dft_clf.predict(X_test)"
   ]
  },
  {
   "cell_type": "code",
   "execution_count": 44,
   "metadata": {},
   "outputs": [
    {
     "data": {
      "text/plain": [
       "0.9"
      ]
     },
     "execution_count": 44,
     "metadata": {},
     "output_type": "execute_result"
    }
   ],
   "source": [
    "accuracy_score(y_pred, y_test)"
   ]
  },
  {
   "cell_type": "markdown",
   "metadata": {},
   "source": [
    "**Клссификация с параметром `size` в диапазоне [0.1..1.0]**"
   ]
  },
  {
   "cell_type": "code",
   "execution_count": 45,
   "metadata": {},
   "outputs": [
    {
     "name": "stdout",
     "output_type": "stream",
     "text": [
      "Wall time: 14.9 s\n"
     ]
    }
   ],
   "source": [
    "%%time\n",
    "accuracies = []\n",
    "for size in np.arange(0.1, 1.05, 0.05):\n",
    "    dft_clf = DFTClassifier(size=size)\n",
    "    dft_clf.fit(X_train, y_train)\n",
    "    y_pred = dft_clf.predict(X_test)\n",
    "    accuracies.append(accuracy_score(y_pred, y_test))"
   ]
  },
  {
   "cell_type": "code",
   "execution_count": 46,
   "metadata": {},
   "outputs": [
    {
     "data": {
      "image/png": "[encoded data removed]",
      "text/plain": [
       "<Figure size 432x288 with 1 Axes>"
      ]
     },
     "metadata": {
      "needs_background": "light"
     },
     "output_type": "display_data"
    }
   ],
   "source": [
    "plt.plot(np.arange(0.1, 1.05, 0.05), accuracies)\n",
    "plt.xlabel('size')\n",
    "plt.ylabel('accuracy')\n",
    "plt.title('DFTClassifier');"
   ]
  },
  {
   "cell_type": "code",
   "execution_count": 47,
   "metadata": {},
   "outputs": [
    {
     "name": "stdout",
     "output_type": "stream",
     "text": [
      "Оптимальный параметр size: 0.5500000000000002\n",
      "Точность: 0.95\n"
     ]
    }
   ],
   "source": [
    "print('Оптимальный параметр size:', np.arange(0.1, 1.05, 0.05)[np.argmax(accuracies)])\n",
    "print('Точность:', max(accuracies))"
   ]
  },
  {
   "cell_type": "markdown",
   "metadata": {},
   "source": [
    "## Дискретное косинусное преобразование"
   ]
  },
  {
   "cell_type": "markdown",
   "metadata": {},
   "source": [
    "**Классификация с параметром по умолчанию `size=1.0`**"
   ]
  },
  {
   "cell_type": "code",
   "execution_count": 48,
   "metadata": {},
   "outputs": [],
   "source": [
    "dct_clf = DCTClassifier()"
   ]
  },
  {
   "cell_type": "code",
   "execution_count": 49,
   "metadata": {},
   "outputs": [],
   "source": [
    "dct_clf.fit(X_train, y_train)"
   ]
  },
  {
   "cell_type": "code",
   "execution_count": 50,
   "metadata": {},
   "outputs": [
    {
     "name": "stdout",
     "output_type": "stream",
     "text": [
      "Wall time: 584 ms\n"
     ]
    }
   ],
   "source": [
    "%%time\n",
    "y_pred = dct_clf.predict(X_test)"
   ]
  },
  {
   "cell_type": "code",
   "execution_count": 51,
   "metadata": {},
   "outputs": [
    {
     "data": {
      "text/plain": [
       "0.975"
      ]
     },
     "execution_count": 51,
     "metadata": {},
     "output_type": "execute_result"
    }
   ],
   "source": [
    "accuracy_score(y_pred, y_test)"
   ]
  },
  {
   "cell_type": "markdown",
   "metadata": {},
   "source": [
    "**Клссификация с параметром `size` в диапазоне [0.1..1.0]**"
   ]
  },
  {
   "cell_type": "code",
   "execution_count": 52,
   "metadata": {},
   "outputs": [
    {
     "name": "stdout",
     "output_type": "stream",
     "text": [
      "Wall time: 8.98 s\n"
     ]
    }
   ],
   "source": [
    "%%time\n",
    "accuracies = []\n",
    "for size in np.arange(0.1, 1.05, 0.05):\n",
    "    dct_clf = DCTClassifier(size=size)\n",
    "    dct_clf.fit(X_train, y_train)\n",
    "    y_pred = dct_clf.predict(X_test)\n",
    "    accuracies.append(accuracy_score(y_pred, y_test))"
   ]
  },
  {
   "cell_type": "code",
   "execution_count": 53,
   "metadata": {},
   "outputs": [
    {
     "data": {
      "image/png": "[encoded data removed]",
      "text/plain": [
       "<Figure size 432x288 with 1 Axes>"
      ]
     },
     "metadata": {
      "needs_background": "light"
     },
     "output_type": "display_data"
    }
   ],
   "source": [
    "plt.plot(np.arange(0.1, 1.05, 0.05), accuracies)\n",
    "plt.xlabel('size')\n",
    "plt.ylabel('accuracy')\n",
    "plt.title('DCTClassifier');"
   ]
  },
  {
   "cell_type": "code",
   "execution_count": 54,
   "metadata": {},
   "outputs": [
    {
     "name": "stdout",
     "output_type": "stream",
     "text": [
      "Оптимальный параметр size: 0.1\n",
      "Точность: 0.975\n"
     ]
    }
   ],
   "source": [
    "print('Оптимальный параметр size:', np.arange(0.1, 1.05, 0.05)[np.argmax(accuracies)])\n",
    "print('Точность:', max(accuracies))"
   ]
  },
  {
   "cell_type": "markdown",
   "metadata": {},
   "source": [
    "## Масштабирование"
   ]
  },
  {
   "cell_type": "code",
   "execution_count": 55,
   "metadata": {},
   "outputs": [],
   "source": [
    "scale_clf = ScaleClassifier(sizes=[0.1, 0.5, 0.8])"
   ]
  },
  {
   "cell_type": "code",
   "execution_count": 56,
   "metadata": {},
   "outputs": [
    {
     "name": "stdout",
     "output_type": "stream",
     "text": [
      "Wall time: 859 ms\n"
     ]
    }
   ],
   "source": [
    "%%time\n",
    "scale_clf.fit(X_train, y_train)"
   ]
  },
  {
   "cell_type": "code",
   "execution_count": 57,
   "metadata": {},
   "outputs": [
    {
     "name": "stdout",
     "output_type": "stream",
     "text": [
      "Wall time: 625 ms\n"
     ]
    }
   ],
   "source": [
    "%%time\n",
    "y_pred = scale_clf.predict(X_test)"
   ]
  },
  {
   "cell_type": "code",
   "execution_count": 58,
   "metadata": {},
   "outputs": [
    {
     "data": {
      "text/plain": [
       "1.0"
      ]
     },
     "execution_count": 58,
     "metadata": {},
     "output_type": "execute_result"
    }
   ],
   "source": [
    "accuracy_score(y_pred, y_test)"
   ]
  },
  {
   "cell_type": "markdown",
   "metadata": {},
   "source": [
    "**Классификация с параметром `sizes` в диапазоне [0.05..1.0]**"
   ]
  },
  {
   "cell_type": "code",
   "execution_count": 59,
   "metadata": {},
   "outputs": [
    {
     "name": "stdout",
     "output_type": "stream",
     "text": [
      "Wall time: 12.3 s\n"
     ]
    }
   ],
   "source": [
    "%%time\n",
    "accuracies = []\n",
    "for size in np.arange(0.05, 1.05, 0.05):\n",
    "    scale_clf = ScaleClassifier(sizes=[size])\n",
    "    scale_clf.fit(X_train, y_train)\n",
    "    y_pred = scale_clf.predict(X_test)\n",
    "    accuracies.append(accuracy_score(y_pred, y_test))"
   ]
  },
  {
   "cell_type": "code",
   "execution_count": 60,
   "metadata": {},
   "outputs": [
    {
     "data": {
      "image/png": "[encoded data removed]",
      "text/plain": [
       "<Figure size 432x288 with 1 Axes>"
      ]
     },
     "metadata": {
      "needs_background": "light"
     },
     "output_type": "display_data"
    }
   ],
   "source": [
    "plt.plot(np.arange(0.05, 1.05, 0.05), accuracies)\n",
    "plt.xlabel('size')\n",
    "plt.ylabel('accuracy')\n",
    "plt.title('ScaleClassifier');"
   ]
  },
  {
   "cell_type": "markdown",
   "metadata": {},
   "source": [
    "**Классификация с параметром `sizes` в диапазоне [0.05..1.0].    \n",
    "Предыдущие параметры на каждой итерации не удаляются**"
   ]
  },
  {
   "cell_type": "code",
   "execution_count": 61,
   "metadata": {},
   "outputs": [
    {
     "name": "stdout",
     "output_type": "stream",
     "text": [
      "Wall time: 1min 34s\n"
     ]
    }
   ],
   "source": [
    "%%time\n",
    "accuracies = []\n",
    "sizes = []\n",
    "for size in np.arange(0.05, 1.05, 0.05):\n",
    "    sizes.append(size)\n",
    "    scale_clf = ScaleClassifier(sizes=sizes)\n",
    "    scale_clf.fit(X_train, y_train)\n",
    "    y_pred = scale_clf.predict(X_test)\n",
    "    accuracies.append(accuracy_score(y_pred, y_test))"
   ]
  },
  {
   "cell_type": "code",
   "execution_count": 62,
   "metadata": {},
   "outputs": [
    {
     "data": {
      "image/png": "[encoded data removed]",
      "text/plain": [
       "<Figure size 432x288 with 1 Axes>"
      ]
     },
     "metadata": {
      "needs_background": "light"
     },
     "output_type": "display_data"
    }
   ],
   "source": [
    "plt.plot(np.arange(0.05, 1.05, 0.05), accuracies)\n",
    "plt.xlabel('size')\n",
    "plt.ylabel('accuracy')\n",
    "plt.title('ScaleClassifier');"
   ]
  },
  {
   "cell_type": "code",
   "execution_count": 63,
   "metadata": {},
   "outputs": [
    {
     "name": "stdout",
     "output_type": "stream",
     "text": [
      "Оптимальный набор параметров: [0.05, 0.1]\n",
      "Точность: 1.0\n"
     ]
    }
   ],
   "source": [
    "print('Оптимальный набор параметров:', sizes[:np.argmax(accuracies) + 1])\n",
    "print('Точность:', np.max(accuracies))"
   ]
  },
  {
   "cell_type": "markdown",
   "metadata": {},
   "source": [
    "## Градиент"
   ]
  },
  {
   "cell_type": "markdown",
   "metadata": {},
   "source": [
    "**Классификация с параметром по умолчанию `ksize=-1`.    \n",
    "В этом случае используется `3x3 Scharr` фильтер.**"
   ]
  },
  {
   "cell_type": "code",
   "execution_count": 64,
   "metadata": {},
   "outputs": [],
   "source": [
    "gradient_clf = GradientClassifier()"
   ]
  },
  {
   "cell_type": "code",
   "execution_count": 65,
   "metadata": {},
   "outputs": [],
   "source": [
    "gradient_clf.fit(X_train, y_train)"
   ]
  },
  {
   "cell_type": "code",
   "execution_count": 66,
   "metadata": {},
   "outputs": [
    {
     "name": "stdout",
     "output_type": "stream",
     "text": [
      "Wall time: 344 ms\n"
     ]
    }
   ],
   "source": [
    "%%time\n",
    "y_pred = gradient_clf.predict(X_test)"
   ]
  },
  {
   "cell_type": "code",
   "execution_count": 67,
   "metadata": {},
   "outputs": [
    {
     "data": {
      "text/plain": [
       "0.7"
      ]
     },
     "execution_count": 67,
     "metadata": {},
     "output_type": "execute_result"
    }
   ],
   "source": [
    "accuracy_score(y_pred, y_test)"
   ]
  },
  {
   "cell_type": "markdown",
   "metadata": {},
   "source": [
    "**Классификация с параметром `ksize` в диапазоне [3..31] с шагом 2** "
   ]
  },
  {
   "cell_type": "code",
   "execution_count": 68,
   "metadata": {},
   "outputs": [
    {
     "name": "stdout",
     "output_type": "stream",
     "text": [
      "Wall time: 5.91 s\n"
     ]
    }
   ],
   "source": [
    "%%time\n",
    "accuracies = []\n",
    "for ksize in range(3, 31 + 1, 2):\n",
    "    gradient_clf = GradientClassifier(ksize=ksize)\n",
    "    gradient_clf.fit(X_train, y_train)\n",
    "    y_pred = gradient_clf.predict(X_test)\n",
    "    accuracies.append(accuracy_score(y_pred, y_test))"
   ]
  },
  {
   "cell_type": "code",
   "execution_count": 69,
   "metadata": {},
   "outputs": [
    {
     "data": {
      "image/png": "[encoded data removed]",
      "text/plain": [
       "<Figure size 432x288 with 1 Axes>"
      ]
     },
     "metadata": {
      "needs_background": "light"
     },
     "output_type": "display_data"
    }
   ],
   "source": [
    "plt.plot(range(3, 31 + 1, 2), accuracies)\n",
    "plt.xlabel('ksize')\n",
    "plt.ylabel('accuracy')\n",
    "plt.title('GradientClassifier');"
   ]
  },
  {
   "cell_type": "code",
   "execution_count": 70,
   "metadata": {},
   "outputs": [
    {
     "name": "stdout",
     "output_type": "stream",
     "text": [
      "Оптимальный параметр ksize: 13\n",
      "Точность: 0.95\n"
     ]
    }
   ],
   "source": [
    "print('Оптимальный параметр ksize:', list(range(3, 32, 2))[np.argmax(accuracies)])\n",
    "print('Точность:', max(accuracies))"
   ]
  },
  {
   "cell_type": "markdown",
   "metadata": {},
   "source": [
    "# Кросс-Валидация исходных данных"
   ]
  },
  {
   "cell_type": "code",
   "execution_count": 71,
   "metadata": {},
   "outputs": [],
   "source": [
    "skf = StratifiedKFold(n_splits=10, shuffle=True, random_state=25)"
   ]
  },
  {
   "cell_type": "code",
   "execution_count": 72,
   "metadata": {},
   "outputs": [
    {
     "name": "stdout",
     "output_type": "stream",
     "text": [
      "10\n",
      "Wall time: 26.5 s\n"
     ]
    }
   ],
   "source": [
    "%%time\n",
    "bright_cv_scores = []\n",
    "dft_cv_scores = []\n",
    "dct_cv_scores = []\n",
    "scale_cv_scores = []\n",
    "grad_cv_scores = []\n",
    "for i, (train_idx, test_idx) in enumerate(skf.split(images, labels), start=1):\n",
    "    clear_output(wait=True)\n",
    "    print(i)\n",
    "    X_train, y_train = images[train_idx], labels[train_idx]\n",
    "    X_test, y_test = images[test_idx], labels[test_idx]\n",
    "\n",
    "    brightness_clf = BrightnessClassifier()    \n",
    "    brightness_clf.fit(X_train, y_train)\n",
    "    y_pred = brightness_clf.predict(X_test)\n",
    "    bright_cv_scores.append(accuracy_score(y_pred, y_test))\n",
    "    \n",
    "    dft_clf = DFTClassifier(size=0.55)\n",
    "    dft_clf.fit(X_train, y_train)\n",
    "    y_pred = dft_clf.predict(X_test)\n",
    "    dft_cv_scores.append(accuracy_score(y_pred, y_test))\n",
    "    \n",
    "    dct_clf = DCTClassifier(size=0.1)\n",
    "    dct_clf.fit(X_train, y_train)\n",
    "    y_pred = dct_clf.predict(X_test)\n",
    "    dct_cv_scores.append(accuracy_score(y_pred, y_test))\n",
    "    \n",
    "    scale_clf = ScaleClassifier(sizes=[0.05, 0.1, 0.15])\n",
    "    scale_clf.fit(X_train, y_train)\n",
    "    y_pred = scale_clf.predict(X_test)\n",
    "    scale_cv_scores.append(accuracy_score(y_pred, y_test))\n",
    "    \n",
    "    gradient_clf = GradientClassifier(ksize=29)\n",
    "    gradient_clf.fit(X_train, y_train)\n",
    "    y_pred = gradient_clf.predict(X_test)\n",
    "    grad_cv_scores.append(accuracy_score(y_pred, y_test))"
   ]
  },
  {
   "cell_type": "code",
   "execution_count": 73,
   "metadata": {},
   "outputs": [
    {
     "name": "stdout",
     "output_type": "stream",
     "text": [
      "BrightnessClassifier, точность на кросс-валидации: 0.9875\n",
      "DFTClassifier, точность на кросс-валидации: 0.8799999999999999\n",
      "DCTClassifier, точность на кросс-валидации: 0.9800000000000001\n",
      "ScaleClassifier, точность на кросс-валидации: 0.9724999999999999\n",
      "GradientClassifier, точность на кросс-валидации: 0.9375\n"
     ]
    }
   ],
   "source": [
    "print('BrightnessClassifier, точность на кросс-валидации:', np.mean(bright_cv_scores))\n",
    "print('DFTClassifier, точность на кросс-валидации:', np.mean(dft_cv_scores))\n",
    "print('DCTClassifier, точность на кросс-валидации:', np.mean(dct_cv_scores))\n",
    "print('ScaleClassifier, точность на кросс-валидации:', np.mean(scale_cv_scores))\n",
    "print('GradientClassifier, точность на кросс-валидации:', np.mean(grad_cv_scores))"
   ]
  },
  {
   "cell_type": "markdown",
   "metadata": {},
   "source": [
    "## Зависимости распознавания от числа тестовых изображений в выборке"
   ]
  },
  {
   "cell_type": "code",
   "execution_count": 74,
   "metadata": {},
   "outputs": [
    {
     "name": "stdout",
     "output_type": "stream",
     "text": [
      "Iteration 13 from 13\n",
      "Wall time: 49.6 s\n"
     ]
    }
   ],
   "source": [
    "%%time\n",
    "bright_scores = []\n",
    "dft_scores = []\n",
    "dct_scores = []\n",
    "scale_scores = []\n",
    "grad_scores = []\n",
    "for i, test_size in enumerate(range(40, 170, 10), start=1):\n",
    "    clear_output(wait=True)\n",
    "    print(f'Iteration {i} from {len(range(40, 170, 10))}')\n",
    "    X_train, X_test, y_train, y_test = train_test_split(images, labels, test_size=test_size, \n",
    "                                                        random_state=25, stratify=labels)\n",
    "    brightness_clf = BrightnessClassifier()    \n",
    "    brightness_clf.fit(X_train, y_train)\n",
    "    y_pred = brightness_clf.predict(X_test)\n",
    "    bright_scores.append(accuracy_score(y_pred, y_test))\n",
    "    \n",
    "    dft_clf = DFTClassifier(size=0.55)\n",
    "    dft_clf.fit(X_train, y_train)\n",
    "    y_pred = dft_clf.predict(X_test)\n",
    "    dft_scores.append(accuracy_score(y_pred, y_test))\n",
    "    \n",
    "    dct_clf = DCTClassifier(size=0.1)\n",
    "    dct_clf.fit(X_train, y_train)\n",
    "    y_pred = dct_clf.predict(X_test)\n",
    "    dct_scores.append(accuracy_score(y_pred, y_test))\n",
    "    \n",
    "    scale_clf = ScaleClassifier(sizes=[0.05, 0.1, 0.15])\n",
    "    scale_clf.fit(X_train, y_train)\n",
    "    y_pred = scale_clf.predict(X_test)\n",
    "    scale_scores.append(accuracy_score(y_pred, y_test))\n",
    "    \n",
    "    gradient_clf = GradientClassifier(ksize=29)\n",
    "    gradient_clf.fit(X_train, y_train)\n",
    "    y_pred = gradient_clf.predict(X_test)\n",
    "    grad_scores.append(accuracy_score(y_pred, y_test))"
   ]
  },
  {
   "cell_type": "code",
   "execution_count": 75,
   "metadata": {},
   "outputs": [
    {
     "data": {
      "image/png": "[encoded data removed]",
      "text/plain": [
       "<Figure size 432x288 with 1 Axes>"
      ]
     },
     "metadata": {
      "needs_background": "light"
     },
     "output_type": "display_data"
    }
   ],
   "source": [
    "plot_test_acc(range(40, 170, 10), bright_scores, 'BrightnessClassifier')"
   ]
  },
  {
   "cell_type": "code",
   "execution_count": 76,
   "metadata": {},
   "outputs": [
    {
     "data": {
      "image/png": "[encoded data removed]",
      "text/plain": [
       "<Figure size 432x288 with 1 Axes>"
      ]
     },
     "metadata": {
      "needs_background": "light"
     },
     "output_type": "display_data"
    }
   ],
   "source": [
    "plot_test_acc(range(40, 170, 10), dft_scores, 'DFTClassifier')"
   ]
  },
  {
   "cell_type": "code",
   "execution_count": 77,
   "metadata": {},
   "outputs": [
    {
     "data": {
      "image/png": "[encoded data removed]",
      "text/plain": [
       "<Figure size 432x288 with 1 Axes>"
      ]
     },
     "metadata": {
      "needs_background": "light"
     },
     "output_type": "display_data"
    }
   ],
   "source": [
    "plot_test_acc(range(40, 170, 10), dct_scores, 'DCTClassifier')"
   ]
  },
  {
   "cell_type": "code",
   "execution_count": 78,
   "metadata": {},
   "outputs": [
    {
     "data": {
      "image/png": "[encoded data removed]",
      "text/plain": [
       "<Figure size 432x288 with 1 Axes>"
      ]
     },
     "metadata": {
      "needs_background": "light"
     },
     "output_type": "display_data"
    }
   ],
   "source": [
    "plot_test_acc(range(40, 170, 10), scale_scores, 'ScaleClassifier')"
   ]
  },
  {
   "cell_type": "code",
   "execution_count": 79,
   "metadata": {},
   "outputs": [
    {
     "data": {
      "image/png": "[encoded data removed]",
      "text/plain": [
       "<Figure size 432x288 with 1 Axes>"
      ]
     },
     "metadata": {
      "needs_background": "light"
     },
     "output_type": "display_data"
    }
   ],
   "source": [
    "plot_test_acc(range(40, 170, 10), grad_scores, 'GradientClassifier')"
   ]
  },
  {
   "cell_type": "markdown",
   "metadata": {},
   "source": [
    "## Визуализация изображений"
   ]
  },
  {
   "cell_type": "code",
   "execution_count": 80,
   "metadata": {},
   "outputs": [],
   "source": [
    "X_train, X_test, y_train, y_test = train_test_split(images, labels, test_size=len(np.unique(labels)), \n",
    "                                                    random_state=25, stratify=labels)"
   ]
  },
  {
   "cell_type": "code",
   "execution_count": 81,
   "metadata": {},
   "outputs": [],
   "source": [
    "brightness_clf = BrightnessClassifier()    \n",
    "brightness_clf.fit(X_train, y_train)\n",
    "y_pred_bright = brightness_clf.predict(X_test)\n",
    "\n",
    "dft_clf = DFTClassifier()\n",
    "dft_clf.fit(X_train, y_train)\n",
    "y_pred_dft = dft_clf.predict(X_test)\n",
    "\n",
    "dct_clf = DCTClassifier()\n",
    "dct_clf.fit(X_train, y_train)\n",
    "y_pred_dct = dct_clf.predict(X_test)\n",
    "\n",
    "scale_clf = ScaleClassifier()\n",
    "scale_clf.fit(X_train, y_train)\n",
    "y_pred_scale = scale_clf.predict(X_test)\n",
    "\n",
    "gradient_clf = GradientClassifier()\n",
    "gradient_clf.fit(X_train, y_train)\n",
    "y_pred_grad = gradient_clf.predict(X_test)"
   ]
  },
  {
   "cell_type": "code",
   "execution_count": 82,
   "metadata": {},
   "outputs": [
    {
     "data": {
      "image/png": "[encoded data removed]",
      "text/plain": [
       "<Figure size 720x720 with 5 Axes>"
      ]
     },
     "metadata": {
      "needs_background": "light"
     },
     "output_type": "display_data"
    }
   ],
   "source": [
    "fig = plt.figure(figsize=(10,10))\n",
    "for i, (true_label, img) in enumerate(zip(y_test, X_test)):\n",
    "    fig.add_subplot(2, 3, 1)\n",
    "    if true_label == y_pred_bright[i]:\n",
    "        plt.imshow(img, cmap=\"gray\")\n",
    "    else:\n",
    "        plt.imshow(img, cmap=\"hot\")\n",
    "    plt.title(\"Brightness histogram\")\n",
    "   \n",
    "    fig.add_subplot(2, 3, 2)\n",
    "    if true_label == y_pred_dft[i]:\n",
    "        plt.imshow(img, cmap=\"gray\")\n",
    "    else:\n",
    "        plt.imshow(img, cmap=\"hot\")\n",
    "    plt.title(\"DFT\")\n",
    "    \n",
    "    fig.add_subplot(2, 3, 3)  \n",
    "    if true_label == y_pred_dct[i]:\n",
    "        plt.imshow(img, cmap=\"gray\")\n",
    "    else:\n",
    "        plt.imshow(img, cmap=\"hot\")\n",
    "    plt.title(\"DCT\")\n",
    "    \n",
    "    fig.add_subplot(2, 3, 4)\n",
    "    if true_label == y_pred_scale[i]:\n",
    "        plt.imshow(img, cmap=\"gray\")\n",
    "    else:\n",
    "        plt.imshow(img, cmap=\"hot\")\n",
    "    plt.title(\"Scale\")\n",
    "    \n",
    "    fig.add_subplot(2, 3, 5)\n",
    "    if true_label == y_pred_grad[i]:\n",
    "        plt.imshow(img, cmap=\"gray\")\n",
    "    else:\n",
    "        plt.imshow(img, cmap=\"hot\")\n",
    "    plt.title(\"Gradient\")\n",
    "    \n",
    "    time.sleep(1)\n",
    "    display.display(plt.gcf())\n",
    "    clear_output(wait=True)"
   ]
  },
  {
   "cell_type": "markdown",
   "metadata": {},
   "source": [
    "# Классификация по принципу голосования"
   ]
  },
  {
   "cell_type": "markdown",
   "metadata": {},
   "source": [
    "**Классификация с параметрами по умолчанию**"
   ]
  },
  {
   "cell_type": "code",
   "execution_count": 83,
   "metadata": {},
   "outputs": [],
   "source": [
    "estimators = [BrightnessClassifier(), DFTClassifier(), DCTClassifier(), \n",
    "              ScaleClassifier(sizes=[0.5]), GradientClassifier(ksize=3)]\n",
    "voting_classifier = VotingClassifier(estimators=estimators)"
   ]
  },
  {
   "cell_type": "code",
   "execution_count": 84,
   "metadata": {},
   "outputs": [],
   "source": [
    "voting_classifier.fit(X_train, y_train)"
   ]
  },
  {
   "cell_type": "code",
   "execution_count": 85,
   "metadata": {},
   "outputs": [
    {
     "name": "stdout",
     "output_type": "stream",
     "text": [
      "Wall time: 1.95 s\n"
     ]
    }
   ],
   "source": [
    "%%time\n",
    "y_pred = voting_classifier.predict(X_test)"
   ]
  },
  {
   "cell_type": "code",
   "execution_count": 86,
   "metadata": {},
   "outputs": [
    {
     "data": {
      "text/plain": [
       "0.975"
      ]
     },
     "execution_count": 86,
     "metadata": {},
     "output_type": "execute_result"
    }
   ],
   "source": [
    "accuracy_score(y_pred, y_test)"
   ]
  },
  {
   "cell_type": "markdown",
   "metadata": {},
   "source": [
    "**Классификация с оптимальными параметрами для каждого классификатора**"
   ]
  },
  {
   "cell_type": "code",
   "execution_count": 87,
   "metadata": {},
   "outputs": [],
   "source": [
    "estimators = [BrightnessClassifier(hist_size=256), DFTClassifier(size=0.55), DCTClassifier(size=0.1), \n",
    "              ScaleClassifier(sizes=[0.05, 0.1, 0.15]), GradientClassifier(ksize=29)]\n",
    "voting_classifier = VotingClassifier(estimators=estimators)"
   ]
  },
  {
   "cell_type": "code",
   "execution_count": 88,
   "metadata": {},
   "outputs": [],
   "source": [
    "voting_classifier.fit(X_train, y_train)"
   ]
  },
  {
   "cell_type": "code",
   "execution_count": 89,
   "metadata": {},
   "outputs": [
    {
     "name": "stdout",
     "output_type": "stream",
     "text": [
      "Wall time: 1.34 s\n"
     ]
    }
   ],
   "source": [
    "%%time\n",
    "y_pred = voting_classifier.predict(X_test)"
   ]
  },
  {
   "cell_type": "code",
   "execution_count": 90,
   "metadata": {},
   "outputs": [
    {
     "data": {
      "text/plain": [
       "0.975"
      ]
     },
     "execution_count": 90,
     "metadata": {},
     "output_type": "execute_result"
    }
   ],
   "source": [
    "accuracy_score(y_pred, y_test)"
   ]
  },
  {
   "cell_type": "markdown",
   "metadata": {},
   "source": [
    "**Зависимость распознавания от числа тестовых изображений в выборке**"
   ]
  },
  {
   "cell_type": "code",
   "execution_count": 91,
   "metadata": {},
   "outputs": [
    {
     "name": "stdout",
     "output_type": "stream",
     "text": [
      "Iteration 17 from 17\n",
      "Wall time: 1min 9s\n"
     ]
    }
   ],
   "source": [
    "%%time\n",
    "scores = []\n",
    "for i, test_size in enumerate(range(40, 210, 10), start=1):\n",
    "    clear_output(wait=True)\n",
    "    print(f'Iteration {i} from {len(range(40, 210, 10))}')\n",
    "    X_train, X_test, y_train, y_test = train_test_split(images, labels, test_size=test_size, \n",
    "                                                        random_state=25, stratify=labels)\n",
    "    \n",
    "    estimators = [BrightnessClassifier(hist_size=256), DFTClassifier(size=0.55), DCTClassifier(size=0.1), \n",
    "                  ScaleClassifier(sizes=[0.05, 0.1, 0.15]), GradientClassifier(ksize=29)]\n",
    "    voting_classifier = VotingClassifier(estimators=estimators)\n",
    "    voting_classifier.fit(X_train, y_train)\n",
    "    y_pred = voting_classifier.predict(X_test)\n",
    "    scores.append(accuracy_score(y_pred, y_test))"
   ]
  },
  {
   "cell_type": "code",
   "execution_count": 92,
   "metadata": {},
   "outputs": [
    {
     "data": {
      "image/png": "[encoded data removed]",
      "text/plain": [
       "<Figure size 432x288 with 1 Axes>"
      ]
     },
     "metadata": {
      "needs_background": "light"
     },
     "output_type": "display_data"
    }
   ],
   "source": [
    "plot_test_acc(range(40, 210, 10), scores, 'VotingClassifier with opt params')"
   ]
  },
  {
   "cell_type": "markdown",
   "metadata": {},
   "source": [
    "**Кросс-валидация**"
   ]
  },
  {
   "cell_type": "code",
   "execution_count": 93,
   "metadata": {},
   "outputs": [],
   "source": [
    "skf = StratifiedKFold(n_splits=10, shuffle=True, random_state=25)"
   ]
  },
  {
   "cell_type": "code",
   "execution_count": 94,
   "metadata": {},
   "outputs": [
    {
     "name": "stdout",
     "output_type": "stream",
     "text": [
      "10\n",
      "Точность на кросс-валидации: 0.99\n",
      "Wall time: 26.9 s\n"
     ]
    }
   ],
   "source": [
    "%%time\n",
    "cv_scores = []\n",
    "for i, (train_idx, test_idx) in enumerate(skf.split(images, labels), start=1):\n",
    "    clear_output(wait=True)\n",
    "    print(i)\n",
    "    X_train, y_train = images[train_idx], labels[train_idx]\n",
    "    X_test, y_test = images[test_idx], labels[test_idx]\n",
    "\n",
    "    estimators = [BrightnessClassifier(hist_size=256), DFTClassifier(size=0.55), DCTClassifier(size=0.1), \n",
    "                  ScaleClassifier(sizes=[0.05, 0.1, 0.15]), GradientClassifier(ksize=29)]\n",
    "    voting_classifier = VotingClassifier(estimators=estimators)\n",
    "    voting_classifier.fit(X_train, y_train)\n",
    "    y_pred = voting_classifier.predict(X_test)\n",
    "    cv_scores.append(accuracy_score(y_pred, y_test))\n",
    "\n",
    "print('Точность на кросс-валидации:', np.mean(cv_scores))"
   ]
  },
  {
   "cell_type": "code",
   "execution_count": null,
   "metadata": {},
   "outputs": [],
   "source": []
  }
 ],
 "metadata": {
  "kernelspec": {
   "display_name": "Python 3",
   "language": "python",
   "name": "python3"
  },
  "language_info": {
   "codemirror_mode": {
    "name": "ipython",
    "version": 3
   },
   "file_extension": ".py",
   "mimetype": "text/x-python",
   "name": "python",
   "nbconvert_exporter": "python",
   "pygments_lexer": "ipython3",
   "version": "3.7.3"
  }
 },
 "nbformat": 4,
 "nbformat_minor": 2
}
